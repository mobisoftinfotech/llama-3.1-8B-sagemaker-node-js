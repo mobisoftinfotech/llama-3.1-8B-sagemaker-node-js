{
 "cells": [
  {
   "cell_type": "code",
   "execution_count": 1,
   "id": "71bd5e2f-bf71-4054-9f62-dc9deb96e864",
   "metadata": {},
   "outputs": [],
   "source": [
    "model_id = 'meta-llama/Llama-3.1-8B-Instruct'"
   ]
  },
  {
   "cell_type": "code",
   "execution_count": 2,
   "id": "88d99c83-2e84-4cda-bba4-19ccc9095643",
   "metadata": {},
   "outputs": [
    {
     "name": "stdout",
     "output_type": "stream",
     "text": [
      "sagemaker.config INFO - Not applying SDK defaults from location: /etc/xdg/sagemaker/config.yaml\n",
      "sagemaker.config INFO - Not applying SDK defaults from location: /home/sagemaker-user/.config/sagemaker/config.yaml\n"
     ]
    }
   ],
   "source": [
    "import json\n",
    "import sagemaker\n",
    "import boto3\n",
    "from sagemaker.huggingface import HuggingFaceModel, get_huggingface_llm_image_uri"
   ]
  },
  {
   "cell_type": "code",
   "execution_count": 3,
   "id": "540346df-5880-4c5e-be4c-c26dc888a8ea",
   "metadata": {},
   "outputs": [],
   "source": [
    "role = sagemaker.get_execution_role()\n",
    "\n",
    "# Hub Model configuration. https://huggingface.co/models\n",
    "hub = {\n",
    "    'HF_MODEL_ID': model_id,\n",
    "    'SM_NUM_GPUS': json.dumps(1),\n",
    "    'HUGGING_FACE_HUB_TOKEN': 'your-key-here'\n",
    "}\n",
    "\n",
    "assert hub['HUGGING_FACE_HUB_TOKEN'] != '<REPLACE WITH YOUR TOKEN>', \"You have to provide a token.\"\n",
    "image_uri = get_huggingface_llm_image_uri(\"huggingface\", version=\"2.0\")"
   ]
  },
  {
   "cell_type": "code",
   "execution_count": 4,
   "id": "c6953b36-7b6d-42b9-922b-1a3158ccf6f5",
   "metadata": {},
   "outputs": [
    {
     "name": "stdout",
     "output_type": "stream",
     "text": [
      "-----------!"
     ]
    }
   ],
   "source": [
    "# create Hugging Face Model Class\n",
    "huggingface_model = HuggingFaceModel(\n",
    "    image_uri=image_uri,\n",
    "    env=hub,\n",
    "    role=role,\n",
    ")\n",
    "\n",
    "# deploy model to SageMaker Inference\n",
    "predictor = huggingface_model.deploy(\n",
    "    initial_instance_count=1,\n",
    "    instance_type=\"ml.g5.2xlarge\",\n",
    "    container_startup_health_check_timeout=300,\n",
    ")"
   ]
  },
  {
   "cell_type": "code",
   "execution_count": 5,
   "id": "a208d07e-d5b3-499c-bb47-4c0c8bcffa22",
   "metadata": {},
   "outputs": [
    {
     "name": "stderr",
     "output_type": "stream",
     "text": [
      "/opt/conda/lib/python3.11/site-packages/huggingface_hub/file_download.py:1150: FutureWarning: `resume_download` is deprecated and will be removed in version 1.0.0. Downloads always resume when possible. If you want to force a new download, use `force_download=True`.\n",
      "  warnings.warn(\n"
     ]
    },
    {
     "data": {
      "application/vnd.jupyter.widget-view+json": {
       "model_id": "2212abd3413a4c7099d664f6ef6de1a8",
       "version_major": 2,
       "version_minor": 0
      },
      "text/plain": [
       "tokenizer_config.json:   0%|          | 0.00/55.4k [00:00<?, ?B/s]"
      ]
     },
     "metadata": {},
     "output_type": "display_data"
    },
    {
     "data": {
      "application/vnd.jupyter.widget-view+json": {
       "model_id": "feae31a8735a403cba92b7941f62f7bc",
       "version_major": 2,
       "version_minor": 0
      },
      "text/plain": [
       "tokenizer.json:   0%|          | 0.00/9.09M [00:00<?, ?B/s]"
      ]
     },
     "metadata": {},
     "output_type": "display_data"
    },
    {
     "data": {
      "application/vnd.jupyter.widget-view+json": {
       "model_id": "fef33b17c6bc4b35b4436173918f4600",
       "version_major": 2,
       "version_minor": 0
      },
      "text/plain": [
       "special_tokens_map.json:   0%|          | 0.00/296 [00:00<?, ?B/s]"
      ]
     },
     "metadata": {},
     "output_type": "display_data"
    },
    {
     "name": "stderr",
     "output_type": "stream",
     "text": [
      "Special tokens have been added in the vocabulary, make sure the associated word embeddings are fine-tuned or trained.\n"
     ]
    }
   ],
   "source": [
    "from transformers import AutoTokenizer\n",
    "\n",
    "# load the tokenizer\n",
    "tokenizer = AutoTokenizer.from_pretrained(model_id, token=hub['HUGGING_FACE_HUB_TOKEN'])\n",
    "\n",
    "# Prompt to generate\n",
    "messages = [\n",
    "    {\"role\": \"system\", \"content\": \"You are an assistant\"},\n",
    "    {\"role\": \"user\", \"content\": \"What is an LLM?\"},\n",
    "]\n",
    "\n",
    "prompt = tokenizer.apply_chat_template(messages, tokenize=False, add_generation_prompt=True)"
   ]
  },
  {
   "cell_type": "code",
   "execution_count": 10,
   "id": "624cd1b5-5b6b-4f46-a83f-cbb529f1f19b",
   "metadata": {},
   "outputs": [
    {
     "name": "stdout",
     "output_type": "stream",
     "text": [
      "<|begin_of_text|><|start_header_id|>system<|end_header_id|>\n",
      "\n",
      "Cutting Knowledge Date: December 2023\n",
      "Today Date: 26 Jul 2024\n",
      "\n",
      "You are an assistant<|eot_id|><|start_header_id|>user<|end_header_id|>\n",
      "\n",
      "What is an LLM?<|eot_id|><|start_header_id|>assistant<|end_header_id|>\n",
      "\n",
      "\n"
     ]
    }
   ],
   "source": [
    "print(prompt)"
   ]
  },
  {
   "cell_type": "code",
   "execution_count": 6,
   "id": "df280293-57cd-4eaf-a61a-47fd09c97955",
   "metadata": {},
   "outputs": [],
   "source": [
    "terminators = [\n",
    "    tokenizer.eos_token_id,\n",
    "    tokenizer.convert_tokens_to_ids(\"<|eot_id|>\")\n",
    "]\n",
    "\n",
    "# Generation arguments\n",
    "payload = {\n",
    "    \"max_new_tokens\": 256,\n",
    "    \"eos_token_id\": terminators,\n",
    "    \"do_sample\": True,\n",
    "    \"temperature\": 0.6,\n",
    "    \"top_p\": 0.9,\n",
    "    \"return_full_text\": False,\n",
    "}"
   ]
  },
  {
   "cell_type": "code",
   "execution_count": 7,
   "id": "a621965b-f9b2-4ea4-b8e7-4bec067730fd",
   "metadata": {},
   "outputs": [],
   "source": [
    "from sagemaker.base_deserializers import JSONDeserializer\n",
    "predictor.deserializer = JSONDeserializer()"
   ]
  },
  {
   "cell_type": "code",
   "execution_count": 8,
   "id": "0fb367c5-4e7b-42ef-ab07-f61a7305bd23",
   "metadata": {},
   "outputs": [
    {
     "name": "stdout",
     "output_type": "stream",
     "text": [
      "CPU times: user 17.1 ms, sys: 3.37 ms, total: 20.4 ms\n",
      "Wall time: 8.95 s\n"
     ]
    }
   ],
   "source": [
    "%%time\n",
    "response = predictor.predict({\"inputs\":prompt, \"parameters\":payload})"
   ]
  },
  {
   "cell_type": "code",
   "execution_count": 9,
   "id": "58acdd25-46fb-42e3-9d1c-f74ab38237c9",
   "metadata": {},
   "outputs": [
    {
     "name": "stdout",
     "output_type": "stream",
     "text": [
      "(\"LLM stands for Large Language Model. It's a type of artificial intelligence \"\n",
      " '(AI) designed to process and generate human-like language. LLMs are trained '\n",
      " 'on vast amounts of text data, which enables them to learn patterns, '\n",
      " 'relationships, and structures of language.\\n'\n",
      " '\\n'\n",
      " 'These models are typically trained using a technique called deep learning, '\n",
      " 'where the AI is presented with large amounts of text data and learns to '\n",
      " 'predict the next word in a sequence. This process is repeated millions of '\n",
      " 'times, allowing the model to refine its understanding of language.\\n'\n",
      " '\\n'\n",
      " 'Some key characteristics of LLMs include:\\n'\n",
      " '\\n'\n",
      " '1. **Language understanding**: LLMs can comprehend and analyze human '\n",
      " 'language, including nuances, idioms, and context.\\n'\n",
      " \"2. **Language generation**: LLMs can generate text that's coherent, \"\n",
      " 'grammatically correct, and often indistinguishable from text written by a '\n",
      " 'human.\\n'\n",
      " '3. **Contextual understanding**: LLMs can understand the context in which a '\n",
      " 'piece of text is being used, allowing them to provide more accurate and '\n",
      " 'relevant responses.\\n'\n",
      " '\\n'\n",
      " 'LLMs have many applications, including:\\n'\n",
      " '\\n'\n",
      " '1. **Virtual assistants**: LLMs power virtual assistants like Siri, Google '\n",
      " 'Assistant, and Alexa, enabling them to understand and respond to voice '\n",
      " 'commands.\\n'\n",
      " '2. **Chatbots**: LLMs are used to')\n"
     ]
    }
   ],
   "source": [
    "import pprint\n",
    "\n",
    "pprint.pprint(response[0]['generated_text'])"
   ]
  },
  {
   "cell_type": "code",
   "execution_count": null,
   "id": "c44a8150-0c69-45eb-8972-c5ea397d92e9",
   "metadata": {},
   "outputs": [],
   "source": []
  }
 ],
 "metadata": {
  "kernelspec": {
   "display_name": "Python 3 (ipykernel)",
   "language": "python",
   "name": "python3"
  },
  "language_info": {
   "codemirror_mode": {
    "name": "ipython",
    "version": 3
   },
   "file_extension": ".py",
   "mimetype": "text/x-python",
   "name": "python",
   "nbconvert_exporter": "python",
   "pygments_lexer": "ipython3",
   "version": "3.11.9"
  }
 },
 "nbformat": 4,
 "nbformat_minor": 5
}
